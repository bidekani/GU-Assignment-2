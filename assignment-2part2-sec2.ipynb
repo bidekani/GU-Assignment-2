{
 "cells": [
  {
   "cell_type": "code",
   "execution_count": 1,
   "id": "5326121f",
   "metadata": {},
   "outputs": [],
   "source": [
    "from huggingface_hub import notebook_login"
   ]
  },
  {
   "cell_type": "code",
   "execution_count": 4,
   "id": "fda7a9f4",
   "metadata": {},
   "outputs": [
    {
     "data": {
      "application/vnd.jupyter.widget-view+json": {
       "model_id": "b35a072091904dc1a487312c5d7be077",
       "version_major": 2,
       "version_minor": 0
      },
      "text/plain": [
       "VBox(children=(HTML(value='<center> <img\\nsrc=https://huggingface.co/front/assets/huggingface_logo-noborder.sv…"
      ]
     },
     "metadata": {},
     "output_type": "display_data"
    }
   ],
   "source": [
    "\n",
    "notebook_login()"
   ]
  },
  {
   "cell_type": "code",
   "execution_count": 9,
   "id": "9266a32a",
   "metadata": {},
   "outputs": [],
   "source": [
    "from datasets import load_dataset\n",
    "import os"
   ]
  },
  {
   "cell_type": "code",
   "execution_count": 20,
   "id": "e835fd12",
   "metadata": {},
   "outputs": [
    {
     "data": {
      "application/vnd.jupyter.widget-view+json": {
       "model_id": "75c9f1f6d9ec49f18655c773ddef9741",
       "version_major": 2,
       "version_minor": 0
      },
      "text/plain": [
       "Downloading tokenizer_config.json:   0%|          | 0.00/29.0 [00:00<?, ?B/s]"
      ]
     },
     "metadata": {},
     "output_type": "display_data"
    },
    {
     "data": {
      "application/vnd.jupyter.widget-view+json": {
       "model_id": "81ae2867fcc64e0d9723cd669be28ccc",
       "version_major": 2,
       "version_minor": 0
      },
      "text/plain": [
       "Downloading config.json:   0%|          | 0.00/624 [00:00<?, ?B/s]"
      ]
     },
     "metadata": {},
     "output_type": "display_data"
    },
    {
     "data": {
      "application/vnd.jupyter.widget-view+json": {
       "model_id": "95fc2d3017684016abef1b70cb327e90",
       "version_major": 2,
       "version_minor": 0
      },
      "text/plain": [
       "Downloading vocab.txt:   0%|          | 0.00/110k [00:00<?, ?B/s]"
      ]
     },
     "metadata": {},
     "output_type": "display_data"
    },
    {
     "data": {
      "application/vnd.jupyter.widget-view+json": {
       "model_id": "6b5bff5ea9864e4d99af08f01ad9a578",
       "version_major": 2,
       "version_minor": 0
      },
      "text/plain": [
       "Downloading tokenizer.json:   0%|          | 0.00/269k [00:00<?, ?B/s]"
      ]
     },
     "metadata": {},
     "output_type": "display_data"
    },
    {
     "data": {
      "application/vnd.jupyter.widget-view+json": {
       "model_id": "ca4fbc8ad7be430abd5e6d0007a3393b",
       "version_major": 2,
       "version_minor": 0
      },
      "text/plain": [
       "Downloading model.safetensors:   0%|          | 0.00/412M [00:00<?, ?B/s]"
      ]
     },
     "metadata": {},
     "output_type": "display_data"
    },
    {
     "name": "stderr",
     "output_type": "stream",
     "text": [
      "Some weights of the model checkpoint at bert-base-chinese were not used when initializing BertForMaskedLM: ['cls.seq_relationship.bias', 'cls.seq_relationship.weight', 'bert.pooler.dense.bias', 'bert.pooler.dense.weight']\n",
      "- This IS expected if you are initializing BertForMaskedLM from the checkpoint of a model trained on another task or with another architecture (e.g. initializing a BertForSequenceClassification model from a BertForPreTraining model).\n",
      "- This IS NOT expected if you are initializing BertForMaskedLM from the checkpoint of a model that you expect to be exactly identical (initializing a BertForSequenceClassification model from a BertForSequenceClassification model).\n"
     ]
    }
   ],
   "source": [
    "from transformers import AutoTokenizer, AutoModelForMaskedLM\n",
    "\n",
    "tokenizer = AutoTokenizer.from_pretrained(\"bert-base-chinese\")\n",
    "\n",
    "model = AutoModelForMaskedLM.from_pretrained(\"bert-base-chinese\")\n"
   ]
  },
  {
   "cell_type": "markdown",
   "id": "ba59356c-54b1-428c-b625-d7a2b2d4ea7c",
   "metadata": {},
   "source": [
    "#### conllu should be installed to be able to load the data"
   ]
  },
  {
   "cell_type": "code",
   "execution_count": 7,
   "id": "76934efd",
   "metadata": {},
   "outputs": [],
   "source": [
    "# !pip install  conllu"
   ]
  },
  {
   "cell_type": "code",
   "execution_count": 8,
   "id": "bd12185a",
   "metadata": {},
   "outputs": [],
   "source": [
    "import conllu"
   ]
  },
  {
   "cell_type": "code",
   "execution_count": 9,
   "id": "0678c5dd",
   "metadata": {},
   "outputs": [
    {
     "data": {
      "text/plain": [
       "'# sent_id = train-s1\\n# text = 看似簡單，只是二選一做決擇，但其實他們代表的是你周遭的親朋好友，試著給你不同的意見，但追根究底，最後決定的還是自己。\\n1\\t看似\\t看似\\tAUX\\tVV\\t_\\t2\\tcop\\t_\\tSpaceAfter=No\\n2\\t簡單\\t簡單\\tADJ\\tJJ\\t_\\t5\\tadvcl\\t_\\tSpaceAfter=No\\n3\\t，\\t，\\tPUNCT\\t,\\t_\\t5\\tpunct\\t_\\tSpaceAfter=No\\n4\\t只\\t只\\tADV\\tRB\\t_\\t5\\tadvmod\\t_\\tSpaceAfter=No\\n5\\t是\\t是\\tVERB\\tVC\\t_\\t0\\troot\\t_\\tSpaceAfter=No\\n6\\t二\\t二\\tNUM\\tCD\\tNumType=Card\\t7\\tadvmod\\t_\\tSpaceAfter=No\\n7\\t選\\t選\\tVERB\\tVV\\t_\\t9\\tadvcl\\t_\\tSpaceAfter=No\\n8\\t一\\t一\\tNUM\\tCD\\tNumType=Card\\t7\\tobj\\t_\\tSpaceAfter=No\\n9\\t做\\t做\\tVERB\\tVV\\t_\\t5\\txcomp\\t_\\tSpaceAfter=No\\n10\\t決擇\\t決擇\\tNOUN\\tNN\\t_\\t9\\tobj\\t_\\tSpaceA'"
      ]
     },
     "execution_count": 9,
     "metadata": {},
     "output_type": "execute_result"
    }
   ],
   "source": [
    "#Read data from the downloaded files in my local system\n",
    "# dataFileName='C:/Users/mat/samples/Universal Dependencies 2.12/ud-treebanks-v2.12/UD_Chinese-GSD/zh_gsd-ud-train.conllu'\n",
    "\n",
    "dataFileName='/scratch/lt2316-h20-resources/zh_gsd-ud-train.conllu'\n",
    "\n",
    "with open(dataFileName,mode='r',encoding='utf-8') as data_set:\n",
    "    raw_data=data_set.read()\n",
    "    \n",
    "raw_data[:500]"
   ]
  },
  {
   "cell_type": "code",
   "execution_count": 35,
   "id": "2a6b8e4b-a236-4a7a-8f93-2f72665b82f6",
   "metadata": {},
   "outputs": [
    {
     "data": {
      "text/plain": [
       "'# sent_id = test-s1\\n# text = 然而，這樣的處理也衍生了一些問題。\\n1\\t然而\\t然而\\tADV\\tRB\\t_\\t7\\tmark\\t_\\tSpaceAfter=No\\n2\\t，\\t，\\tPUNCT\\t,\\t_\\t7\\tpunct\\t_\\tSpaceAfter=No\\n3\\t這樣\\t這樣\\tPRON\\tPRD\\t_\\t5\\tdet\\t_\\tSpaceAfter=No\\n4\\t的\\t的\\tPART\\tDEC\\tCase=Gen\\t3\\tcase:dec\\t_\\tSpaceAfter=No\\n5\\t處理\\t處理\\tNOUN\\tNN\\t_\\t7\\tnsubj\\t_\\tSpaceAfter=No\\n6\\t也\\t也\\tADV\\tRB\\t_\\t7\\tmark\\t_\\tSpaceAfter=No\\n7\\t衍生\\t衍生\\tVERB\\tVV\\t_\\t0\\troot\\t_\\tSpaceAfter=No\\n8\\t了\\t了\\tPART\\tAS\\tAspect=Perf\\t7\\tcase:aspect\\t_\\tSpaceAfter=No\\n9\\t一些\\t一些\\tADJ\\tJJ\\t_\\t10\\tamod\\t_\\tSpaceAfter=No\\n10\\t問題\\t問題\\tNOUN\\tNN\\t_\\t7\\tobj\\t_\\tSpaceAfter=No\\n11\\t。\\t。\\tPUNCT\\t.\\t_\\t7\\tpun'"
      ]
     },
     "execution_count": 35,
     "metadata": {},
     "output_type": "execute_result"
    }
   ],
   "source": [
    "dataFileName='/scratch/lt2316-h20-resources/zh_gsd-ud-test.conllu'\n",
    "\n",
    "with open(dataFileName,mode='r',encoding='utf-8') as test_data_set:\n",
    "    data_test=test_data_set.read()\n",
    "    \n",
    "data_test[:500]"
   ]
  },
  {
   "cell_type": "code",
   "execution_count": 10,
   "id": "28332f33",
   "metadata": {},
   "outputs": [],
   "source": [
    "data=conllu.parse(raw_data)"
   ]
  },
  {
   "cell_type": "code",
   "execution_count": 37,
   "id": "8a42bc03-3fc1-4021-9038-2d5cdda0247f",
   "metadata": {},
   "outputs": [],
   "source": [
    "test_data=conllu.parse(data_test)"
   ]
  },
  {
   "cell_type": "code",
   "execution_count": 11,
   "id": "9261d967",
   "metadata": {},
   "outputs": [
    {
     "data": {
      "text/plain": [
       "TokenList<看似, 簡單, ，, 只, 是, 二, 選, 一, 做, 決擇, ，, 但, 其實, 他們, 代表, 的, 是, 你, 周遭, 的, 親朋, 好友, ，, 試, 著, 給, 你, 不同, 的, 意見, ，, 但, 追根究底, ，, 最後, 決定, 的, 還是, 自己, 。, metadata={sent_id: \"train-s1\", text: \"看似簡單，只是二選一做決擇，但其實他們代表的是你周遭的親朋好友，試著給你不同的意見，但追根究底，最後決定的還是自己。\"}>"
      ]
     },
     "execution_count": 11,
     "metadata": {},
     "output_type": "execute_result"
    }
   ],
   "source": [
    "data[0]"
   ]
  },
  {
   "cell_type": "code",
   "execution_count": 12,
   "id": "ceb74218",
   "metadata": {},
   "outputs": [
    {
     "data": {
      "text/plain": [
       "{'sent_id': 'train-s101', 'text': '其中藏文由左向右刻寫，察合台文由右向左。'}"
      ]
     },
     "execution_count": 12,
     "metadata": {},
     "output_type": "execute_result"
    }
   ],
   "source": [
    "data[100].metadata"
   ]
  },
  {
   "cell_type": "code",
   "execution_count": 13,
   "id": "2861327a",
   "metadata": {},
   "outputs": [
    {
     "data": {
      "text/plain": [
       "{'id': 2,\n",
       " 'form': '簡單',\n",
       " 'lemma': '簡單',\n",
       " 'upos': 'ADJ',\n",
       " 'xpos': 'JJ',\n",
       " 'feats': None,\n",
       " 'head': 5,\n",
       " 'deprel': 'advcl',\n",
       " 'deps': None,\n",
       " 'misc': {'SpaceAfter': 'No'}}"
      ]
     },
     "execution_count": 13,
     "metadata": {},
     "output_type": "execute_result"
    }
   ],
   "source": [
    "data[0][1]"
   ]
  },
  {
   "cell_type": "code",
   "execution_count": 14,
   "id": "2173cc45",
   "metadata": {},
   "outputs": [
    {
     "data": {
      "text/plain": [
       "{'id': 1,\n",
       " 'form': '看似',\n",
       " 'lemma': '看似',\n",
       " 'upos': 'AUX',\n",
       " 'xpos': 'VV',\n",
       " 'feats': None,\n",
       " 'head': 2,\n",
       " 'deprel': 'cop',\n",
       " 'deps': None,\n",
       " 'misc': {'SpaceAfter': 'No'}}"
      ]
     },
     "execution_count": 14,
     "metadata": {},
     "output_type": "execute_result"
    }
   ],
   "source": [
    "data[0][0]"
   ]
  },
  {
   "cell_type": "code",
   "execution_count": 15,
   "id": "5b002109",
   "metadata": {},
   "outputs": [
    {
     "data": {
      "text/plain": [
       "{'id': 5,\n",
       " 'form': '是',\n",
       " 'lemma': '是',\n",
       " 'upos': 'VERB',\n",
       " 'xpos': 'VC',\n",
       " 'feats': None,\n",
       " 'head': 0,\n",
       " 'deprel': 'root',\n",
       " 'deps': None,\n",
       " 'misc': {'SpaceAfter': 'No'}}"
      ]
     },
     "execution_count": 15,
     "metadata": {},
     "output_type": "execute_result"
    }
   ],
   "source": [
    "data[0][4]"
   ]
  },
  {
   "cell_type": "code",
   "execution_count": 16,
   "id": "9cb9fc43",
   "metadata": {},
   "outputs": [
    {
     "data": {
      "text/plain": [
       "'VERB'"
      ]
     },
     "execution_count": 16,
     "metadata": {},
     "output_type": "execute_result"
    }
   ],
   "source": [
    "data[0][4]['upos']"
   ]
  },
  {
   "cell_type": "code",
   "execution_count": 17,
   "id": "164e0c1a",
   "metadata": {},
   "outputs": [
    {
     "data": {
      "text/plain": [
       "conllu.models.SentenceList"
      ]
     },
     "execution_count": 17,
     "metadata": {},
     "output_type": "execute_result"
    }
   ],
   "source": [
    "type(data)"
   ]
  },
  {
   "cell_type": "markdown",
   "id": "f080f71f-d25a-4e38-93df-3f4a5ef83b41",
   "metadata": {},
   "source": [
    "#### As we can see the chinees text has been tokenized based on each character not words, which is different from the part-1 in Demo"
   ]
  },
  {
   "cell_type": "code",
   "execution_count": 18,
   "id": "18e0db97",
   "metadata": {},
   "outputs": [
    {
     "data": {
      "text/plain": [
       "'看似簡單，只是二選一做決擇，但其實他們代表的是你周遭的親朋好友，試著給你不同的意見，但追根究底，最後決定的還是自己。'"
      ]
     },
     "execution_count": 18,
     "metadata": {},
     "output_type": "execute_result"
    }
   ],
   "source": [
    "data[0].metadata['text']"
   ]
  },
  {
   "cell_type": "code",
   "execution_count": 21,
   "id": "94a5e59e",
   "metadata": {},
   "outputs": [
    {
     "data": {
      "text/plain": [
       "['[CLS]',\n",
       " '看',\n",
       " '似',\n",
       " '簡',\n",
       " '單',\n",
       " '，',\n",
       " '只',\n",
       " '是',\n",
       " '二',\n",
       " '選',\n",
       " '一',\n",
       " '做',\n",
       " '決',\n",
       " '擇',\n",
       " '，',\n",
       " '但',\n",
       " '其',\n",
       " '實',\n",
       " '他',\n",
       " '們',\n",
       " '代',\n",
       " '表',\n",
       " '的',\n",
       " '是',\n",
       " '你',\n",
       " '周',\n",
       " '遭',\n",
       " '的',\n",
       " '親',\n",
       " '朋',\n",
       " '好',\n",
       " '友',\n",
       " '，',\n",
       " '試',\n",
       " '著',\n",
       " '給',\n",
       " '你',\n",
       " '不',\n",
       " '同',\n",
       " '的',\n",
       " '意',\n",
       " '見',\n",
       " '，',\n",
       " '但',\n",
       " '追',\n",
       " '根',\n",
       " '究',\n",
       " '底',\n",
       " '，',\n",
       " '最',\n",
       " '後',\n",
       " '決',\n",
       " '定',\n",
       " '的',\n",
       " '還',\n",
       " '是',\n",
       " '自',\n",
       " '己',\n",
       " '。',\n",
       " '[SEP]']"
      ]
     },
     "execution_count": 21,
     "metadata": {},
     "output_type": "execute_result"
    }
   ],
   "source": [
    "tokenized_input = tokenizer(data[0].metadata['text'], is_split_into_words=False)\n",
    "tokens = tokenizer.convert_ids_to_tokens(tokenized_input[\"input_ids\"])\n",
    "tokens"
   ]
  },
  {
   "cell_type": "markdown",
   "id": "3fb2cc56",
   "metadata": {},
   "source": [
    "now we need a dict with  token_id,label \\\n",
    "which label is <b> data[0][4]['upos'] </b>  data[text_index][token_index]\n"
   ]
  },
  {
   "cell_type": "code",
   "execution_count": 22,
   "id": "445cd490",
   "metadata": {},
   "outputs": [
    {
     "data": {
      "text/plain": [
       "{'input_ids': [101, 4692, 849, 5080, 1606, 8024, 1372, 3221, 753, 6908, 671, 976, 3748, 3079, 8024, 852, 1071, 2179, 800, 947, 807, 6134, 4638, 3221, 872, 1453, 6901, 4638, 6217, 3301, 1962, 1351, 8024, 6275, 5865, 5183, 872, 679, 1398, 4638, 2692, 6210, 8024, 852, 6841, 3418, 4955, 2419, 8024, 3297, 2527, 3748, 2137, 4638, 6917, 3221, 5632, 2346, 511, 102], 'token_type_ids': [0, 0, 0, 0, 0, 0, 0, 0, 0, 0, 0, 0, 0, 0, 0, 0, 0, 0, 0, 0, 0, 0, 0, 0, 0, 0, 0, 0, 0, 0, 0, 0, 0, 0, 0, 0, 0, 0, 0, 0, 0, 0, 0, 0, 0, 0, 0, 0, 0, 0, 0, 0, 0, 0, 0, 0, 0, 0, 0, 0], 'attention_mask': [1, 1, 1, 1, 1, 1, 1, 1, 1, 1, 1, 1, 1, 1, 1, 1, 1, 1, 1, 1, 1, 1, 1, 1, 1, 1, 1, 1, 1, 1, 1, 1, 1, 1, 1, 1, 1, 1, 1, 1, 1, 1, 1, 1, 1, 1, 1, 1, 1, 1, 1, 1, 1, 1, 1, 1, 1, 1, 1, 1]}"
      ]
     },
     "execution_count": 22,
     "metadata": {},
     "output_type": "execute_result"
    }
   ],
   "source": [
    "tokenized_input"
   ]
  },
  {
   "cell_type": "markdown",
   "id": "f7573c15-c0ef-4140-ba90-c36d0dedd1f4",
   "metadata": {},
   "source": [
    "### adding 'upos' to its list\n",
    "at the same time we use a dict to translate it to a number"
   ]
  },
  {
   "cell_type": "code",
   "execution_count": 104,
   "id": "cb8bafbd",
   "metadata": {},
   "outputs": [],
   "source": [
    "#This was some work-around to ignore the values that are not in the dict, and prvent throwing error\n",
    "# from collections import defaultdict\n",
    "# pos2id = defaultdict(dict)"
   ]
  },
  {
   "cell_type": "code",
   "execution_count": 23,
   "id": "e0f00b1f",
   "metadata": {},
   "outputs": [],
   "source": [
    "pos2id={\n",
    "    'ADJ':100,\n",
    "    'ADP':110,\n",
    "    'ADV':120,\n",
    "    'AUX':130,\n",
    "    'CCONJ':140,\n",
    "    'DET':150,\n",
    "    'INTJ':160,\n",
    "    'NOUN':170,\n",
    "    'NUM':180,\n",
    "    'PRON':190,\n",
    "    'PUNCT':200,\n",
    "    'SCONJ':210,\n",
    "    'SYM':220,\n",
    "    'VERB':230,\n",
    "    'X':240,\n",
    "    'PART':250,\n",
    "    'PROPN':260 \n",
    "}\n"
   ]
  },
  {
   "cell_type": "code",
   "execution_count": null,
   "id": "cd9d246f",
   "metadata": {},
   "outputs": [],
   "source": []
  },
  {
   "cell_type": "code",
   "execution_count": null,
   "id": "286ceb3b",
   "metadata": {},
   "outputs": [],
   "source": []
  },
  {
   "cell_type": "code",
   "execution_count": null,
   "id": "be8be1f0",
   "metadata": {},
   "outputs": [],
   "source": [
    "# id2pos={\n",
    "#     'ADJ':100,\n",
    "#     'ADP':110,\n",
    "#     'ADV':120,\n",
    "#     'AUX':130,\n",
    "#     'CCONJ':140,\n",
    "#     'DET':150,\n",
    "#     'INTJ':160,\n",
    "#     'NOUN':170,\n",
    "#     'NUM':180,\n",
    "#     'PRON':190,\n",
    "#     'PUNCT':200,\n",
    "#     'SCONJ':210,\n",
    "#     'SYM':220,\n",
    "#     'VERB':230,\n",
    "#     'X':240   \n",
    "# }"
   ]
  },
  {
   "cell_type": "code",
   "execution_count": 24,
   "id": "826b9644",
   "metadata": {},
   "outputs": [
    {
     "data": {
      "text/plain": [
       "{'input_ids': [101, 4692, 849, 5080, 1606, 8024, 1372, 3221, 753, 6908, 671, 976, 3748, 3079, 8024, 852, 1071, 2179, 800, 947, 807, 6134, 4638, 3221, 872, 1453, 6901, 4638, 6217, 3301, 1962, 1351, 8024, 6275, 5865, 5183, 872, 679, 1398, 4638, 2692, 6210, 8024, 852, 6841, 3418, 4955, 2419, 8024, 3297, 2527, 3748, 2137, 4638, 6917, 3221, 5632, 2346, 511, 102], 'token_type_ids': [0, 0, 0, 0, 0, 0, 0, 0, 0, 0, 0, 0, 0, 0, 0, 0, 0, 0, 0, 0, 0, 0, 0, 0, 0, 0, 0, 0, 0, 0, 0, 0, 0, 0, 0, 0, 0, 0, 0, 0, 0, 0, 0, 0, 0, 0, 0, 0, 0, 0, 0, 0, 0, 0, 0, 0, 0, 0, 0, 0], 'attention_mask': [1, 1, 1, 1, 1, 1, 1, 1, 1, 1, 1, 1, 1, 1, 1, 1, 1, 1, 1, 1, 1, 1, 1, 1, 1, 1, 1, 1, 1, 1, 1, 1, 1, 1, 1, 1, 1, 1, 1, 1, 1, 1, 1, 1, 1, 1, 1, 1, 1, 1, 1, 1, 1, 1, 1, 1, 1, 1, 1, 1]}"
      ]
     },
     "execution_count": 24,
     "metadata": {},
     "output_type": "execute_result"
    }
   ],
   "source": [
    "tokenized_input = tokenizer(data[0].metadata['text'],  truncation=True,is_split_into_words=False)\n",
    "tokenized_input"
   ]
  },
  {
   "cell_type": "code",
   "execution_count": 25,
   "id": "f21e459a",
   "metadata": {},
   "outputs": [
    {
     "data": {
      "text/plain": [
       "101"
      ]
     },
     "execution_count": 25,
     "metadata": {},
     "output_type": "execute_result"
    }
   ],
   "source": [
    "tokenized_input['input_ids'][0]"
   ]
  },
  {
   "cell_type": "markdown",
   "id": "1c5d832e",
   "metadata": {},
   "source": [
    "#### We assume the 'UPOS' as label and using the pos2id dictionary we conevrt it to  a number\n",
    "#### The goal is to add  UPOS  to the tokenized_input for each  token and then use the model to see if we can predict the label "
   ]
  },
  {
   "cell_type": "code",
   "execution_count": 26,
   "id": "357bf404",
   "metadata": {},
   "outputs": [],
   "source": [
    "for i,j in enumerate(data[0]):\n",
    "    print (i,'\\t',data[0][i],'\\t',tokenized_input['input_ids'][i],'\\t',data[0][i]['upos'],'\\t',pos2id[data[0][i]['upos']])"
   ]
  },
  {
   "cell_type": "code",
   "execution_count": 27,
   "id": "1963c2db",
   "metadata": {},
   "outputs": [],
   "source": [
    "label_ids =[]\n",
    "for i,j in enumerate(data[0]):\n",
    "    label_ids.append(pos2id[data[0][i]['upos']])\n",
    "#     print (i,'\\t',data[0][i],'\\t',tokenized_input['input_ids'][i],'\\t',data[0][i]['upos'],'\\t',pos2id[data[0][i]['upos']])"
   ]
  },
  {
   "cell_type": "code",
   "execution_count": 28,
   "id": "e474f99f",
   "metadata": {},
   "outputs": [
    {
     "data": {
      "text/plain": [
       "[130,\n",
       " 100,\n",
       " 200,\n",
       " 120,\n",
       " 230,\n",
       " 180,\n",
       " 230,\n",
       " 180,\n",
       " 230,\n",
       " 170,\n",
       " 200,\n",
       " 120,\n",
       " 120,\n",
       " 190,\n",
       " 230,\n",
       " 250,\n",
       " 130,\n",
       " 190,\n",
       " 170,\n",
       " 250,\n",
       " 170,\n",
       " 170,\n",
       " 200,\n",
       " 230,\n",
       " 250,\n",
       " 230,\n",
       " 190,\n",
       " 100,\n",
       " 250,\n",
       " 170,\n",
       " 200,\n",
       " 120,\n",
       " 230,\n",
       " 200,\n",
       " 170,\n",
       " 230,\n",
       " 250,\n",
       " 130,\n",
       " 190,\n",
       " 200]"
      ]
     },
     "execution_count": 28,
     "metadata": {},
     "output_type": "execute_result"
    }
   ],
   "source": [
    "label_ids"
   ]
  },
  {
   "cell_type": "code",
   "execution_count": 29,
   "id": "408b4b4a",
   "metadata": {},
   "outputs": [],
   "source": [
    "tokenized_input['labels']=label_ids"
   ]
  },
  {
   "cell_type": "code",
   "execution_count": 30,
   "id": "9cbfd054",
   "metadata": {},
   "outputs": [
    {
     "data": {
      "text/plain": [
       "{'input_ids': [101, 4692, 849, 5080, 1606, 8024, 1372, 3221, 753, 6908, 671, 976, 3748, 3079, 8024, 852, 1071, 2179, 800, 947, 807, 6134, 4638, 3221, 872, 1453, 6901, 4638, 6217, 3301, 1962, 1351, 8024, 6275, 5865, 5183, 872, 679, 1398, 4638, 2692, 6210, 8024, 852, 6841, 3418, 4955, 2419, 8024, 3297, 2527, 3748, 2137, 4638, 6917, 3221, 5632, 2346, 511, 102], 'token_type_ids': [0, 0, 0, 0, 0, 0, 0, 0, 0, 0, 0, 0, 0, 0, 0, 0, 0, 0, 0, 0, 0, 0, 0, 0, 0, 0, 0, 0, 0, 0, 0, 0, 0, 0, 0, 0, 0, 0, 0, 0, 0, 0, 0, 0, 0, 0, 0, 0, 0, 0, 0, 0, 0, 0, 0, 0, 0, 0, 0, 0], 'attention_mask': [1, 1, 1, 1, 1, 1, 1, 1, 1, 1, 1, 1, 1, 1, 1, 1, 1, 1, 1, 1, 1, 1, 1, 1, 1, 1, 1, 1, 1, 1, 1, 1, 1, 1, 1, 1, 1, 1, 1, 1, 1, 1, 1, 1, 1, 1, 1, 1, 1, 1, 1, 1, 1, 1, 1, 1, 1, 1, 1, 1], 'labels': [130, 100, 200, 120, 230, 180, 230, 180, 230, 170, 200, 120, 120, 190, 230, 250, 130, 190, 170, 250, 170, 170, 200, 230, 250, 230, 190, 100, 250, 170, 200, 120, 230, 200, 170, 230, 250, 130, 190, 200]}"
      ]
     },
     "execution_count": 30,
     "metadata": {},
     "output_type": "execute_result"
    }
   ],
   "source": [
    "tokenized_input"
   ]
  },
  {
   "cell_type": "markdown",
   "id": "bdfd2b07",
   "metadata": {},
   "source": [
    "#### Now by using the above logic  we define a function to add add labels for tokenized_inputs\n",
    "#### TODO unimportant pos should be marked as -100"
   ]
  },
  {
   "cell_type": "code",
   "execution_count": 31,
   "id": "b3ba01cd",
   "metadata": {},
   "outputs": [],
   "source": [
    "def tokenize_and_align_labels(items):\n",
    "    tokenized_input = tokenizer(items.metadata['text'],  truncation=True,is_split_into_words=False)\n",
    "\n",
    "    label_ids =[]\n",
    "    for i,j in enumerate(items):\n",
    "        label_ids.append(pos2id.get(items[i]['upos']))\n",
    "\n",
    "\n",
    "    tokenized_input['labels']=label_ids\n",
    "    return tokenized_input"
   ]
  },
  {
   "cell_type": "code",
   "execution_count": 32,
   "id": "39239e07",
   "metadata": {},
   "outputs": [],
   "source": [
    "train_data =[]\n",
    "for items in data:\n",
    "    train_data.append(tokenize_and_align_labels(items))"
   ]
  },
  {
   "cell_type": "code",
   "execution_count": 38,
   "id": "929490d7-843a-42e3-847d-57a0c1d33222",
   "metadata": {},
   "outputs": [],
   "source": [
    "test_data_final =[]\n",
    "for items in test_data:\n",
    "    test_data_final.append(tokenize_and_align_labels(items))"
   ]
  },
  {
   "cell_type": "code",
   "execution_count": 40,
   "id": "fa5a2f03",
   "metadata": {},
   "outputs": [
    {
     "data": {
      "text/plain": [
       "{'input_ids': [101, 4197, 5445, 8024, 6857, 3564, 4638, 5993, 4415, 738, 6122, 4495, 749, 671, 763, 1558, 7539, 511, 102], 'token_type_ids': [0, 0, 0, 0, 0, 0, 0, 0, 0, 0, 0, 0, 0, 0, 0, 0, 0, 0, 0], 'attention_mask': [1, 1, 1, 1, 1, 1, 1, 1, 1, 1, 1, 1, 1, 1, 1, 1, 1, 1, 1], 'labels': [120, 200, 190, 250, 170, 120, 230, 250, 100, 170, 200]}"
      ]
     },
     "execution_count": 40,
     "metadata": {},
     "output_type": "execute_result"
    }
   ],
   "source": [
    "test_data_final[0]"
   ]
  },
  {
   "cell_type": "code",
   "execution_count": 33,
   "id": "7e7d4f18",
   "metadata": {},
   "outputs": [
    {
     "name": "stderr",
     "output_type": "stream",
     "text": [
      "2023-11-27 12:34:07.068425: I tensorflow/core/platform/cpu_feature_guard.cc:182] This TensorFlow binary is optimized to use available CPU instructions in performance-critical operations.\n",
      "To enable the following instructions: AVX2 FMA, in other operations, rebuild TensorFlow with the appropriate compiler flags.\n",
      "Some weights of the model checkpoint at bert-base-chinese were not used when initializing BertForMaskedLM: ['cls.seq_relationship.bias', 'cls.seq_relationship.weight', 'bert.pooler.dense.bias', 'bert.pooler.dense.weight']\n",
      "- This IS expected if you are initializing BertForMaskedLM from the checkpoint of a model trained on another task or with another architecture (e.g. initializing a BertForSequenceClassification model from a BertForPreTraining model).\n",
      "- This IS NOT expected if you are initializing BertForMaskedLM from the checkpoint of a model that you expect to be exactly identical (initializing a BertForSequenceClassification model from a BertForSequenceClassification model).\n"
     ]
    }
   ],
   "source": [
    "# from transformers import AutoTokenizer, AutoModelForMaskedLM\n",
    "# from transformers import AutoModelForTokenClassification, TrainingArguments, Trainer\n",
    "# tokenizer = AutoTokenizer.from_pretrained(\"bert-base-chinese\")\n",
    "\n",
    "# model = AutoModelForMaskedLM.from_pretrained(\"bert-base-chinese\")\n"
   ]
  },
  {
   "cell_type": "code",
   "execution_count": 42,
   "id": "a6b96cc1-ac6f-4be7-9ae5-d09478ad8005",
   "metadata": {},
   "outputs": [],
   "source": [
    "from transformers import DataCollatorForTokenClassification\n",
    "\n",
    "data_collator = DataCollatorForTokenClassification(tokenizer=tokenizer)"
   ]
  },
  {
   "cell_type": "code",
   "execution_count": null,
   "id": "54862678-1797-414b-b7b4-1a2dc8d8bb28",
   "metadata": {},
   "outputs": [],
   "source": []
  },
  {
   "cell_type": "code",
   "execution_count": 50,
   "id": "90016a1c-9eb8-4cf7-91b1-9cd4e11b89cb",
   "metadata": {},
   "outputs": [],
   "source": [
    "# import numpy as np\n",
    "\n",
    "# labels = [label_list[i] for i in train_data[\"labels\"]]\n",
    "\n",
    "#\n",
    "# def compute_metrics(p):\n",
    "#     predictions, labels = p\n",
    "#     predictions = np.argmax(predictions, axis=2)\n",
    "\n",
    "#     true_predictions = [\n",
    "#         [label_list[p] for (p, l) in zip(prediction, label) if l != -100]\n",
    "#         for prediction, label in zip(predictions, labels)\n",
    "#     ]\n",
    "#     true_labels = [\n",
    "#         [label_list[l] for (p, l) in zip(prediction, label) if l != -100]\n",
    "#         for prediction, label in zip(predictions, labels)\n",
    "#     ]\n",
    "\n",
    "#     results = seqeval.compute(predictions=true_predictions, references=true_labels)\n",
    "#     return {\n",
    "#         \"precision\": results[\"overall_precision\"],\n",
    "#         \"recall\": results[\"overall_recall\"],\n",
    "#         \"f1\": results[\"overall_f1\"],\n",
    "#         \"accuracy\": results[\"overall_accuracy\"],\n",
    "#     }"
   ]
  },
  {
   "cell_type": "code",
   "execution_count": 45,
   "id": "49e77230",
   "metadata": {},
   "outputs": [
    {
     "name": "stderr",
     "output_type": "stream",
     "text": [
      "/usr/local/lib/python3.11/site-packages/transformers/optimization.py:411: FutureWarning: This implementation of AdamW is deprecated and will be removed in a future version. Use the PyTorch implementation torch.optim.AdamW instead, or set `no_deprecation_warning=True` to disable this warning\n",
      "  warnings.warn(\n",
      "/usr/local/lib64/python3.11/site-packages/torch/nn/parallel/_functions.py:68: UserWarning: Was asked to gather along dimension 0, but all input tensors were scalars; will instead unsqueeze and return a vector.\n",
      "  warnings.warn('Was asked to gather along dimension 0, but all '\n"
     ]
    },
    {
     "data": {
      "text/html": [
       "\n",
       "    <div>\n",
       "      \n",
       "      <progress value='378' max='378' style='width:300px; height:20px; vertical-align: middle;'></progress>\n",
       "      [378/378 04:00, Epoch 6/6]\n",
       "    </div>\n",
       "    <table border=\"1\" class=\"dataframe\">\n",
       "  <thead>\n",
       " <tr style=\"text-align: left;\">\n",
       "      <th>Epoch</th>\n",
       "      <th>Training Loss</th>\n",
       "      <th>Validation Loss</th>\n",
       "    </tr>\n",
       "  </thead>\n",
       "  <tbody>\n",
       "    <tr>\n",
       "      <td>1</td>\n",
       "      <td>No log</td>\n",
       "      <td>1.873974</td>\n",
       "    </tr>\n",
       "    <tr>\n",
       "      <td>2</td>\n",
       "      <td>No log</td>\n",
       "      <td>1.675830</td>\n",
       "    </tr>\n",
       "    <tr>\n",
       "      <td>3</td>\n",
       "      <td>No log</td>\n",
       "      <td>1.569082</td>\n",
       "    </tr>\n",
       "    <tr>\n",
       "      <td>4</td>\n",
       "      <td>No log</td>\n",
       "      <td>1.510082</td>\n",
       "    </tr>\n",
       "    <tr>\n",
       "      <td>5</td>\n",
       "      <td>No log</td>\n",
       "      <td>1.462755</td>\n",
       "    </tr>\n",
       "    <tr>\n",
       "      <td>6</td>\n",
       "      <td>No log</td>\n",
       "      <td>1.452370</td>\n",
       "    </tr>\n",
       "  </tbody>\n",
       "</table><p>"
      ],
      "text/plain": [
       "<IPython.core.display.HTML object>"
      ]
     },
     "metadata": {},
     "output_type": "display_data"
    },
    {
     "name": "stderr",
     "output_type": "stream",
     "text": [
      "/usr/local/lib64/python3.11/site-packages/torch/nn/parallel/_functions.py:68: UserWarning: Was asked to gather along dimension 0, but all input tensors were scalars; will instead unsqueeze and return a vector.\n",
      "  warnings.warn('Was asked to gather along dimension 0, but all '\n",
      "/usr/local/lib64/python3.11/site-packages/torch/nn/parallel/_functions.py:68: UserWarning: Was asked to gather along dimension 0, but all input tensors were scalars; will instead unsqueeze and return a vector.\n",
      "  warnings.warn('Was asked to gather along dimension 0, but all '\n",
      "/usr/local/lib64/python3.11/site-packages/torch/nn/parallel/_functions.py:68: UserWarning: Was asked to gather along dimension 0, but all input tensors were scalars; will instead unsqueeze and return a vector.\n",
      "  warnings.warn('Was asked to gather along dimension 0, but all '\n",
      "/usr/local/lib64/python3.11/site-packages/torch/nn/parallel/_functions.py:68: UserWarning: Was asked to gather along dimension 0, but all input tensors were scalars; will instead unsqueeze and return a vector.\n",
      "  warnings.warn('Was asked to gather along dimension 0, but all '\n",
      "/usr/local/lib64/python3.11/site-packages/torch/nn/parallel/_functions.py:68: UserWarning: Was asked to gather along dimension 0, but all input tensors were scalars; will instead unsqueeze and return a vector.\n",
      "  warnings.warn('Was asked to gather along dimension 0, but all '\n"
     ]
    },
    {
     "data": {
      "text/plain": [
       "TrainOutput(global_step=378, training_loss=1.6820291186135912, metrics={'train_runtime': 241.3905, 'train_samples_per_second': 99.349, 'train_steps_per_second': 1.566, 'total_flos': 1246558608943968.0, 'train_loss': 1.6820291186135912, 'epoch': 6.0})"
      ]
     },
     "execution_count": 45,
     "metadata": {},
     "output_type": "execute_result"
    }
   ],
   "source": [
    "training_args = TrainingArguments(\n",
    "    output_dir=\"my_awesome_wnut_model\",\n",
    "    learning_rate=2e-5,\n",
    "    per_device_train_batch_size=16,\n",
    "    per_device_eval_batch_size=16,\n",
    "    num_train_epochs=6,\n",
    "    weight_decay=0.01,\n",
    "    evaluation_strategy=\"epoch\",\n",
    "    save_strategy=\"epoch\",\n",
    "    load_best_model_at_end=True,\n",
    "    push_to_hub=False,\n",
    ")\n",
    "\n",
    "trainer = Trainer(\n",
    "    model=model,\n",
    "    args=training_args,\n",
    "    train_dataset=train_data,\n",
    "    eval_dataset=test_data_final,\n",
    "    tokenizer=tokenizer,\n",
    "    data_collator=data_collator,\n",
    "    # compute_metrics=compute_metrics,\n",
    ")\n",
    "\n",
    "trainer.train()"
   ]
  },
  {
   "cell_type": "code",
   "execution_count": null,
   "id": "305a7a2b",
   "metadata": {},
   "outputs": [],
   "source": []
  }
 ],
 "metadata": {
  "kernelspec": {
   "display_name": "Python 3 (ipykernel)",
   "language": "python",
   "name": "python3"
  },
  "language_info": {
   "codemirror_mode": {
    "name": "ipython",
    "version": 3
   },
   "file_extension": ".py",
   "mimetype": "text/x-python",
   "name": "python",
   "nbconvert_exporter": "python",
   "pygments_lexer": "ipython3",
   "version": "3.11.6"
  }
 },
 "nbformat": 4,
 "nbformat_minor": 5
}
